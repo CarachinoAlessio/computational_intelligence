{
 "cells": [
  {
   "cell_type": "markdown",
   "source": [
    "# Lab 1: Set Covering\n",
    "\n",
    "First lab + peer review. List this activity in your final report, it will be part of your exam.\n",
    "\n",
    "## Task\n",
    "\n",
    "Given a number $N$ and some lists of integers $P = (L_0, L_1, L_2, ..., L_n)$,\n",
    "determine is possible $S = (L_{s_0}, L_{s_1}, L_{s_2}, ..., L_{s_n})$\n",
    "such that each number between $0$ and $N-1$ appears in at least one list\n",
    "\n",
    "$$\\forall n \\in [0, N-1] \\ \\exists i : n \\in L_{s_i}$$\n",
    "\n",
    "and that the total numbers of elements in all $L_{s_i}$ is minimum.\n",
    "\n",
    "## Input generator"
   ],
   "metadata": {
    "collapsed": false,
    "pycharm": {
     "name": "#%% md\n"
    }
   }
  },
  {
   "cell_type": "code",
   "execution_count": 13,
   "outputs": [],
   "source": [
    "SEED = 42\n",
    "\n",
    "def problem(N, seed=None):\n",
    "    random.seed(seed)\n",
    "    return [\n",
    "        list(set(random.randint(0, N - 1) for n in range(random.randint(N // 5, N // 2))))\n",
    "        for n in range(random.randint(N, N * 5))\n",
    "    ]"
   ],
   "metadata": {
    "collapsed": false,
    "pycharm": {
     "name": "#%%\n"
    }
   }
  },
  {
   "cell_type": "markdown",
   "source": [
    "# Gready Solution (Professor's solution)"
   ],
   "metadata": {
    "collapsed": false,
    "pycharm": {
     "name": "#%% md\n"
    }
   }
  },
  {
   "cell_type": "code",
   "execution_count": 14,
   "outputs": [
    {
     "name": "stderr",
     "output_type": "stream",
     "text": [
      "INFO:root:Greedy solution for N=5: w=5 (bloat=0%)\n",
      "INFO:root:Greedy solution for N=10: w=13 (bloat=30%)\n",
      "INFO:root:Greedy solution for N=20: w=46 (bloat=130%)\n",
      "INFO:root:Greedy solution for N=100: w=332 (bloat=232%)\n",
      "INFO:root:Greedy solution for N=500: w=2162 (bloat=332%)\n",
      "INFO:root:Greedy solution for N=1000: w=4652 (bloat=365%)\n"
     ]
    }
   ],
   "source": [
    "import random\n",
    "import logging\n",
    "import numpy as np\n",
    "\n",
    "def greedy(N):\n",
    "    goal = set(range(N))\n",
    "    covered = set()\n",
    "    solution = list()\n",
    "    all_lists = sorted(problem(N, seed=42), key=lambda l: len(l))\n",
    "    while goal != covered:\n",
    "        x = all_lists.pop(0)\n",
    "        if not set(x) < covered:\n",
    "            solution.append(x)\n",
    "            covered |= set(x)\n",
    "    logging.info(\n",
    "        f\"Greedy solution for N={N}: w={sum(len(_) for _ in solution)} (bloat={(sum(len(_) for _ in solution)-N)/N*100:.0f}%)\"\n",
    "    )\n",
    "    logging.debug(f\"{solution}\")\n",
    "\n",
    "\n",
    "logging.getLogger().setLevel(logging.INFO)\n",
    "for N in [5, 10, 20, 100, 500, 1000]:\n",
    "     greedy(N)"
   ],
   "metadata": {
    "collapsed": false,
    "pycharm": {
     "name": "#%%\n"
    }
   }
  },
  {
   "cell_type": "markdown",
   "source": [
    "# Breadth First"
   ],
   "metadata": {
    "collapsed": false,
    "pycharm": {
     "name": "#%% md\n"
    }
   }
  },
  {
   "cell_type": "markdown",
   "source": [
    "## Generative Search function"
   ],
   "metadata": {
    "collapsed": false,
    "pycharm": {
     "name": "#%% md\n"
    }
   }
  },
  {
   "cell_type": "code",
   "execution_count": 15,
   "outputs": [],
   "source": [
    "from gx_utils import PriorityQueue"
   ],
   "metadata": {
    "collapsed": false,
    "pycharm": {
     "name": "#%%\n"
    }
   }
  },
  {
   "cell_type": "code",
   "execution_count": 16,
   "outputs": [],
   "source": [
    "class State:\n",
    "    def __init__(self, data: np.ndarray):\n",
    "        self._data = data.copy()\n",
    "        self._data.flags.writeable = False\n",
    "\n",
    "    def __hash__(self):\n",
    "        #return hash(tuple(tuple(x) for x in self.copy_data().tolist()))\n",
    "        return hash(bytes(self._data))\n",
    "\n",
    "    def __eq__(self, other):\n",
    "        return bytes(self._data) == bytes(other._data)\n",
    "\n",
    "    def __lt__(self, other):\n",
    "        return bytes(self._data) < bytes(other._data)\n",
    "\n",
    "    def __str__(self):\n",
    "        return str(self._data)\n",
    "\n",
    "    def __repr__(self):\n",
    "        return repr(self._data)\n",
    "\n",
    "    @property\n",
    "    def data(self):\n",
    "        return self._data\n",
    "\n",
    "    def copy_data(self):\n",
    "        return self._data.copy()"
   ],
   "metadata": {
    "collapsed": false,
    "pycharm": {
     "name": "#%%\n"
    }
   }
  },
  {
   "cell_type": "code",
   "execution_count": 17,
   "outputs": [],
   "source": [
    "#return a new_state if elem contains element different from state\n",
    "def result(state, elem):\n",
    "    new_state = []\n",
    "    [new_state.append(e) for e in state.copy_data().tolist()]\n",
    "    new_state.append(elem)\n",
    "    new_state = sorted(new_state, key=lambda l: len(l))\n",
    "\n",
    "    return State(np.array(new_state))\n",
    "\n",
    "def is_valid(state, elem):\n",
    "    covered = set()\n",
    "    for e in state.copy_data():\n",
    "        [covered.add(i) for i in e]\n",
    "    old_covered = covered.copy()\n",
    "    covered |= set(elem)\n",
    "    if old_covered == covered:\n",
    "        return False\n",
    "    else:\n",
    "        return True\n",
    "\n",
    "\n",
    "def goal_test(state, goal_arr):\n",
    "    state_set = set()\n",
    "    test = state.copy_data().tolist()\n",
    "    for e in test:\n",
    "        [state_set.add(i) for i in e]\n",
    "    state_set = sorted(list(state_set))\n",
    "    return state_set == goal_arr\n",
    "\n",
    "def possible_actions(state: State):\n",
    "    #return [item for item in universe if item not in state.copy_data().tolist()]\n",
    "    return [tuple(item) for item in input_state if is_valid(state, item)]"
   ],
   "metadata": {
    "collapsed": false,
    "pycharm": {
     "name": "#%%\n"
    }
   }
  },
  {
   "cell_type": "code",
   "execution_count": 18,
   "outputs": [],
   "source": [
    "from typing import Callable\n",
    "\n",
    "\n",
    "def search(\n",
    "    initial_state: State,\n",
    "    goal_test: Callable,\n",
    "    parent_state: dict,\n",
    "    state_cost: dict,\n",
    "    priority_function: Callable,\n",
    "    unit_cost: Callable,\n",
    "    N: int\n",
    "):\n",
    "    frontier = PriorityQueue()\n",
    "    parent_state.clear()\n",
    "    state_cost.clear()\n",
    "\n",
    "    state = initial_state\n",
    "    parent_state[state] = None\n",
    "    state_cost[state] = 0\n",
    "\n",
    "    goal_array = list(range(N))\n",
    "    nodes = 0\n",
    "    while state is not None and not goal_test(state, goal_array):\n",
    "        for a in possible_actions(state):\n",
    "\n",
    "            if not is_valid(state, a):\n",
    "                continue\n",
    "            new_state = result(state, a)\n",
    "            cost = unit_cost(a)\n",
    "\n",
    "            if new_state not in state_cost and new_state not in frontier:\n",
    "                parent_state[new_state] = state\n",
    "                state_cost[new_state] = state_cost[state] + cost\n",
    "                frontier.push(new_state, p=priority_function(new_state))\n",
    "                logging.debug(f\"Added new node to frontier (cost={state_cost[new_state]})\")\n",
    "            elif new_state in frontier and state_cost[new_state] > state_cost[state] + cost:\n",
    "                old_cost = state_cost[new_state]\n",
    "                parent_state[new_state] = state\n",
    "                state_cost[new_state] = state_cost[state] + cost\n",
    "                logging.debug(f\"Updated node cost in frontier: {old_cost} -> {state_cost[new_state]}\")\n",
    "        if frontier:\n",
    "            state = frontier.pop()\n",
    "            nodes += 1\n",
    "        else:\n",
    "            state = None\n",
    "\n",
    "    path = list()\n",
    "    s = state\n",
    "    while s:\n",
    "        path.append(s.copy_data())\n",
    "        s = parent_state[s]\n",
    "\n",
    "    logging.info(f\"N = {N} | Found a solution in {len(path):,} steps; visited {len(state_cost):,} states, nodes: {nodes}, w = {sum(len(x) for x in path[0])}\")\n",
    "    logging.info(f'state: {path[0]}')\n",
    "    return list(reversed(path))"
   ],
   "metadata": {
    "collapsed": false,
    "pycharm": {
     "name": "#%%\n"
    }
   }
  },
  {
   "cell_type": "markdown",
   "source": [
    "## Breadth First with search function"
   ],
   "metadata": {
    "collapsed": false,
    "pycharm": {
     "name": "#%% md\n"
    }
   }
  },
  {
   "cell_type": "code",
   "execution_count": 19,
   "outputs": [
    {
     "name": "stderr",
     "output_type": "stream",
     "text": [
      "C:\\Users\\aless\\AppData\\Local\\Temp\\ipykernel_17488\\3151961595.py:8: VisibleDeprecationWarning: Creating an ndarray from ragged nested sequences (which is a list-or-tuple of lists-or-tuples-or ndarrays with different lengths or shapes) is deprecated. If you meant to do this, you must specify 'dtype=object' when creating the ndarray.\n",
      "  return State(np.array(new_state))\n",
      "INFO:root:N = 5 | Found a solution in 4 steps; visited 329 states, nodes: 79, w = 5\n",
      "INFO:root:state: [list([2]) list([4]) list([0]) (1, 3)]\n",
      "INFO:root:N = 10 | Found a solution in 4 steps; visited 50,250 states, nodes: 2372, w = 10\n",
      "INFO:root:state: [list([6]) (0, 5) (2, 7, 8) (1, 3, 4, 9)]\n",
      "INFO:root:N = 20 | Found a solution in 5 steps; visited 361,995 states, nodes: 26556, w = 27\n",
      "INFO:root:state: [list([7, 17, 18]) list([5, 8, 16]) (4, 6, 15, 17, 18)\n",
      " (0, 1, 3, 7, 9, 10, 11, 15) (2, 8, 12, 13, 14, 16, 17, 19)]\n"
     ]
    }
   ],
   "source": [
    "parent_state = dict()\n",
    "state_cost = dict()\n",
    "\n",
    "logging.getLogger().setLevel(logging.INFO)\n",
    "''',10,20,50,100,500,1000'''\n",
    "final = []\n",
    "for n in [5, 10, 20]:\n",
    "    input_state = sorted(problem(n, seed=42), key=lambda l: len(l))\n",
    "    input_state = sorted(set(tuple(sorted(x)) for x in input_state), key=lambda l: len(l))\n",
    "    initial_state = State(np.array([input_state[0]]))\n",
    "\n",
    "    logging.debug(f'initial_state: {initial_state}')\n",
    "    logging.debug(f'initial nodes: {len(input_state)}')\n",
    "    final = search(\n",
    "        initial_state=initial_state,\n",
    "        goal_test=goal_test,\n",
    "        parent_state=parent_state,\n",
    "        state_cost=state_cost,\n",
    "        priority_function=lambda s: len(state_cost),\n",
    "        unit_cost=lambda a: 1,\n",
    "        N=n\n",
    "    )"
   ],
   "metadata": {
    "collapsed": false,
    "pycharm": {
     "name": "#%%\n"
    }
   }
  },
  {
   "cell_type": "code",
   "execution_count": null,
   "outputs": [],
   "source": [
    "parent_state = dict()\n",
    "state_cost = dict()\n",
    "\n",
    "logging.getLogger().setLevel(logging.INFO)\n",
    "\n",
    "#for n in [5,10,20,50,100,500,1000]:\n",
    "for N in [5]:\n",
    "    GOAL = set(range(N))\n",
    "    COVERED = set()\n",
    "\n",
    "    def goal_test(state):\n",
    "        return GOAL != COVERED\n",
    "\n",
    "    input_state = sorted(problem(N, seed=42), key=lambda l: len(l))\n",
    "    initial_state = State(np.array([]))\n",
    "    search(\n",
    "        initial_state=initial_state,\n",
    "        goal_test=goal_test,\n",
    "        parent_state=parent_state,\n",
    "        state_cost=state_cost,\n",
    "        priority_function=lambda s: len(state_cost),\n",
    "        unit_cost=lambda a: len(a)\n",
    "    )"
   ],
   "metadata": {
    "collapsed": false,
    "pycharm": {
     "name": "#%%\n",
     "is_executing": true
    }
   }
  }
 ],
 "metadata": {
  "kernelspec": {
   "display_name": "Python 3.9.13 64-bit (microsoft store)",
   "language": "python",
   "name": "python3"
  },
  "language_info": {
   "codemirror_mode": {
    "name": "ipython",
    "version": 3
   },
   "file_extension": ".py",
   "mimetype": "text/x-python",
   "name": "python",
   "nbconvert_exporter": "python",
   "pygments_lexer": "ipython3",
   "version": "3.9.13"
  },
  "vscode": {
   "interpreter": {
    "hash": "a501e7e45fb98c8e75c44e4bfb5dbf829f8562d3d17841b258dfb433fc9274ae"
   }
  }
 },
 "nbformat": 4,
 "nbformat_minor": 2
}