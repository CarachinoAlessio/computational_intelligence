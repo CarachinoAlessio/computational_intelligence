{
 "cells": [
  {
   "cell_type": "markdown",
   "source": [
    "# Lab 1: Set Covering\n",
    "\n",
    "First lab + peer review. List this activity in your final report, it will be part of your exam.\n",
    "\n",
    "## Task\n",
    "\n",
    "Given a number $N$ and some lists of integers $P = (L_0, L_1, L_2, ..., L_n)$,\n",
    "determine is possible $S = (L_{s_0}, L_{s_1}, L_{s_2}, ..., L_{s_n})$\n",
    "such that each number between $0$ and $N-1$ appears in at least one list\n",
    "\n",
    "$$\\forall n \\in [0, N-1] \\ \\exists i : n \\in L_{s_i}$$\n",
    "\n",
    "and that the total numbers of elements in all $L_{s_i}$ is minimum.\n",
    "\n",
    "## Input generator"
   ],
   "metadata": {
    "collapsed": false,
    "pycharm": {
     "name": "#%% md\n"
    }
   }
  },
  {
   "cell_type": "code",
   "execution_count": 11,
   "outputs": [],
   "source": [
    "SEED = 42\n",
    "\n",
    "def problem(N, seed=None):\n",
    "    random.seed(seed)\n",
    "    return [\n",
    "        list(set(random.randint(0, N - 1) for n in range(random.randint(N // 5, N // 2))))\n",
    "        for n in range(random.randint(N, N * 5))\n",
    "    ]"
   ],
   "metadata": {
    "collapsed": false,
    "pycharm": {
     "name": "#%%\n"
    }
   }
  },
  {
   "cell_type": "markdown",
   "source": [
    "# Gready Solution (Professor's solution)"
   ],
   "metadata": {
    "collapsed": false,
    "pycharm": {
     "name": "#%% md\n"
    }
   }
  },
  {
   "cell_type": "code",
   "execution_count": 21,
   "metadata": {
    "pycharm": {
     "name": "#%%\n"
    }
   },
   "outputs": [
    {
     "name": "stderr",
     "output_type": "stream",
     "text": [
      "INFO:root:Greedy solution for N=5: w=5 (bloat=0%)\n",
      "INFO:root:Greedy solution for N=10: w=13 (bloat=30%)\n",
      "INFO:root:Greedy solution for N=20: w=46 (bloat=130%)\n",
      "INFO:root:Greedy solution for N=100: w=332 (bloat=232%)\n",
      "INFO:root:Greedy solution for N=500: w=2162 (bloat=332%)\n",
      "INFO:root:Greedy solution for N=1000: w=4652 (bloat=365%)\n"
     ]
    }
   ],
   "source": [
    "import random\n",
    "import logging\n",
    "import numpy as np\n",
    "\n",
    "def greedy(N):\n",
    "    goal = set(range(N))\n",
    "    covered = set()\n",
    "    solution = list()\n",
    "    all_lists = sorted(problem(N, seed=42), key=lambda l: len(l))\n",
    "    while goal != covered:\n",
    "        x = all_lists.pop(0)\n",
    "        if not set(x) < covered:\n",
    "            solution.append(x)\n",
    "            covered |= set(x)\n",
    "    logging.info(\n",
    "        f\"Greedy solution for N={N}: w={sum(len(_) for _ in solution)} (bloat={(sum(len(_) for _ in solution)-N)/N*100:.0f}%)\"\n",
    "    )\n",
    "    logging.debug(f\"{solution}\")\n",
    "\n",
    "\n",
    "logging.getLogger().setLevel(logging.INFO)\n",
    "for N in [5, 10, 20, 100, 500, 1000]:\n",
    "     greedy(N)"
   ]
  },
  {
   "cell_type": "markdown",
   "source": [
    "# Breadth First"
   ],
   "metadata": {
    "collapsed": false,
    "pycharm": {
     "name": "#%% md\n"
    }
   }
  },
  {
   "cell_type": "code",
   "execution_count": 31,
   "outputs": [
    {
     "name": "stdout",
     "output_type": "stream",
     "text": [
      "w:  5\n",
      "5\n",
      "___________________________________________\n",
      "w:  11\n",
      "10\n",
      "___________________________________________\n",
      "w:  29\n",
      "20\n",
      "___________________________________________\n",
      "w:  192\n",
      "100\n",
      "___________________________________________\n",
      "w:  1313\n",
      "500\n",
      "___________________________________________\n",
      "w:  3092\n",
      "1000\n",
      "___________________________________________\n"
     ]
    }
   ],
   "source": [
    "import random\n",
    "\n",
    "def set_covering_problem_bf(universe,subsets):\n",
    "    elements=set(e for s in subsets for e in s)\n",
    "    if elements!=universe:\n",
    "        print(\"The subsets don't contain the universe.\")\n",
    "        return None\n",
    "    covered=set()\n",
    "    solution=[]\n",
    "    queue=[]\n",
    "    visited=[]\n",
    "    while covered!=elements:\n",
    "        subset = max(subsets,key=lambda s: len(s-covered))\n",
    "        queue.append(subset)\n",
    "        x=queue.pop()\n",
    "        if x not in visited:\n",
    "            visited.append(subset)\n",
    "            solution.append(subset)\n",
    "            covered |= subset\n",
    "    #print(\"NUMBER OF VISITED NODES: \",len(visited))\n",
    "    print(\"w: \",sum(len(_) for _ in solution))\n",
    "    return solution\n",
    "\n",
    "def run_BF(N):\n",
    "    sub=problem(N,seed=42)\n",
    "    universe=set(range(N))\n",
    "    #create a unique set - source: documentation\n",
    "    subsets=[set(element) for element in sub]\n",
    "    set_cover=set_covering_problem_bf(universe,subsets)\n",
    "    #print(\"SOLUTION: \",set_cover)\n",
    "\n",
    "for N in [5, 10, 20, 100, 500, 1000]:\n",
    "     run_BF(N)\n",
    "     print(N)\n",
    "     print(\"___________________________________________\")"
   ],
   "metadata": {
    "collapsed": false,
    "pycharm": {
     "name": "#%%\n"
    }
   }
  },
  {
   "cell_type": "markdown",
   "source": [
    "## Search function\n",
    "# To-be implemented in the following days..."
   ],
   "metadata": {
    "collapsed": false,
    "pycharm": {
     "name": "#%% md\n"
    }
   }
  },
  {
   "cell_type": "code",
   "execution_count": 27,
   "outputs": [],
   "source": [
    "from typing import Callable\n",
    "from gx_utils import PriorityQueue\n",
    "\n",
    "\n",
    "class State:\n",
    "    def __init__(self, data: np.ndarray):\n",
    "        self._data = data.copy()\n",
    "        self._data.flags.writeable = False\n",
    "\n",
    "    def __hash__(self):\n",
    "        return hash(bytes(self._data))\n",
    "\n",
    "    def __eq__(self, other):\n",
    "        return bytes(self._data) == bytes(other._data)\n",
    "\n",
    "    def __lt__(self, other):\n",
    "        return bytes(self._data) < bytes(other._data)\n",
    "\n",
    "    def __str__(self):\n",
    "        return str(self._data)\n",
    "\n",
    "    def __repr__(self):\n",
    "        return repr(self._data)\n",
    "\n",
    "    @property\n",
    "    def data(self):\n",
    "        return self._data\n",
    "\n",
    "    def copy_data(self):\n",
    "        return self._data.copy()\n",
    "\n",
    "# def result(state, elem):\n",
    "#     return State(np.array(new_state))\n",
    "\n",
    "def search(\n",
    "    initial_state: State,\n",
    "    goal_test: Callable,\n",
    "    parent_state: dict,\n",
    "    state_cost: dict,\n",
    "    priority_function: Callable,\n",
    "    unit_cost: Callable,\n",
    "):\n",
    "    frontier = PriorityQueue()\n",
    "    parent_state.clear()\n",
    "    state_cost.clear()\n",
    "\n",
    "    state = initial_state\n",
    "    parent_state[state] = None\n",
    "    state_cost[state] = 0\n",
    "\n",
    "\n",
    "\n",
    "    while state is not None and not goal_test(state):\n",
    "        for a in possible_actions(state):\n",
    "            new_state = result(state, a)\n",
    "            cost = unit_cost(a)\n",
    "            if new_state not in state_cost and new_state not in frontier:\n",
    "                parent_state[new_state] = state\n",
    "                state_cost[new_state] = state_cost[state] + cost\n",
    "                frontier.push(new_state, p=priority_function(new_state))\n",
    "                logging.debug(f\"Added new node to frontier (cost={state_cost[new_state]})\")\n",
    "            elif new_state in frontier and state_cost[new_state] > state_cost[state] + cost:\n",
    "                old_cost = state_cost[new_state]\n",
    "                parent_state[new_state] = state\n",
    "                state_cost[new_state] = state_cost[state] + cost\n",
    "                logging.debug(f\"Updated node cost in frontier: {old_cost} -> {state_cost[new_state]}\")\n",
    "        if frontier:\n",
    "            state = frontier.pop()\n",
    "        else:\n",
    "            state = None\n",
    "    path = list()\n",
    "    s = state\n",
    "    while s:\n",
    "        path.append(s.copy_data())\n",
    "        s = parent_state[s]\n",
    "\n",
    "    logging.info(f\"Found a solution in {len(path):,} steps; visited {len(state_cost):,} states\")\n",
    "    #logging.info(f\"w= \"{sum(...)})\n",
    "    return list(reversed(path))"
   ],
   "metadata": {
    "collapsed": false,
    "pycharm": {
     "name": "#%%\n"
    }
   }
  },
  {
   "cell_type": "markdown",
   "source": [
    "## Breadth First with search function\n",
    "## (To be implemented...)"
   ],
   "metadata": {
    "collapsed": false,
    "pycharm": {
     "name": "#%% md\n"
    }
   }
  },
  {
   "cell_type": "code",
   "execution_count": null,
   "outputs": [],
   "source": [
    "parent_state = dict()\n",
    "state_cost = dict()\n",
    "\n",
    "logging.getLogger().setLevel(logging.INFO)\n",
    "\n",
    "#for n in [5,10,20,50,100,500,1000]:\n",
    "for N in [5]:\n",
    "    GOAL = set(range(N))\n",
    "    COVERED = set()\n",
    "\n",
    "    def goal_test(state):\n",
    "        return GOAL != COVERED\n",
    "\n",
    "    input_state = sorted(problem(N, seed=42), key=lambda l: len(l))\n",
    "    initial_state = State(np.array([]))\n",
    "    search(\n",
    "        initial_state=initial_state,\n",
    "        goal_test=goal_test,\n",
    "        parent_state=parent_state,\n",
    "        state_cost=state_cost,\n",
    "        priority_function=lambda s: len(state_cost),\n",
    "        unit_cost=lambda a: len(a)\n",
    "    )"
   ],
   "metadata": {
    "collapsed": false,
    "pycharm": {
     "name": "#%%\n",
     "is_executing": true
    }
   }
  }
 ],
 "metadata": {
  "kernelspec": {
   "display_name": "Python 3.9.13 64-bit (microsoft store)",
   "language": "python",
   "name": "python3"
  },
  "language_info": {
   "codemirror_mode": {
    "name": "ipython",
    "version": 3
   },
   "file_extension": ".py",
   "mimetype": "text/x-python",
   "name": "python",
   "nbconvert_exporter": "python",
   "pygments_lexer": "ipython3",
   "version": "3.9.13"
  },
  "vscode": {
   "interpreter": {
    "hash": "a501e7e45fb98c8e75c44e4bfb5dbf829f8562d3d17841b258dfb433fc9274ae"
   }
  }
 },
 "nbformat": 4,
 "nbformat_minor": 2
}