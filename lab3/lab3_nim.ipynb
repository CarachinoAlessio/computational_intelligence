{
 "cells": [
  {
   "cell_type": "markdown",
   "source": [
    "# Lab 3: Policy Search\n",
    "\n",
    "## Task\n",
    "\n",
    "Write agents able to play [*Nim*](https://en.wikipedia.org/wiki/Nim), with an arbitrary number of rows and an upper bound $k$ on the number of objects that can be removed in a turn (a.k.a., *subtraction game*).\n",
    "\n",
    "The player **taking the last object wins**.\n",
    "\n",
    "* Task3.1: An agent using fixed rules based on *nim-sum* (i.e., an *expert system*)\n",
    "* Task3.2: An agent using evolved rules\n",
    "* Task3.3: An agent using minmax\n",
    "* Task3.4: An agent using reinforcement learning\n",
    "\n",
    "## Instructions\n",
    "\n",
    "* Create the directory `lab3` inside the course repo \n",
    "* Put a `README.md` and your solution (all the files, code and auxiliary data if needed)\n",
    "\n",
    "## Notes\n",
    "\n",
    "* Working in group is not only allowed, but recommended (see: [Ubuntu](https://en.wikipedia.org/wiki/Ubuntu_philosophy) and [Cooperative Learning](https://files.eric.ed.gov/fulltext/EJ1096789.pdf)). Collaborations must be explicitly declared in the `README.md`.\n",
    "* [Yanking](https://www.emacswiki.org/emacs/KillingAndYanking) from the internet is allowed, but sources must be explicitly declared in the `README.md`.\n",
    "\n",
    "## Deadlines ([AoE](https://en.wikipedia.org/wiki/Anywhere_on_Earth))\n",
    "\n",
    "* Sunday, December 4th for Task3.1 and Task3.2\n",
    "* Sunday, December 11th for Task3.3 and Task3.4\n",
    "* Sunday, December 18th for all reviews"
   ],
   "metadata": {
    "collapsed": false,
    "pycharm": {
     "name": "#%% md\n"
    }
   }
  },
  {
   "cell_type": "code",
   "execution_count": 828,
   "metadata": {
    "pycharm": {
     "name": "#%%\n"
    }
   },
   "outputs": [],
   "source": [
    "import logging\n",
    "from collections import namedtuple\n",
    "import random\n",
    "from typing import Callable\n",
    "from copy import deepcopy\n",
    "from itertools import accumulate\n",
    "from operator import xor"
   ]
  },
  {
   "cell_type": "markdown",
   "metadata": {
    "pycharm": {
     "name": "#%% md\n"
    }
   },
   "source": [
    "## The *Nim* and *Nimply* classes"
   ]
  },
  {
   "cell_type": "code",
   "execution_count": 829,
   "metadata": {
    "pycharm": {
     "name": "#%%\n"
    }
   },
   "outputs": [],
   "source": [
    "Nimply = namedtuple(\"Nimply\", \"row, num_objects\")"
   ]
  },
  {
   "cell_type": "code",
   "execution_count": 830,
   "metadata": {
    "pycharm": {
     "name": "#%%\n"
    }
   },
   "outputs": [],
   "source": [
    "class Nim:\n",
    "    def __init__(self, num_rows: int, k: int = None) -> None:\n",
    "        self._rows = [i * 2 + 1 for i in range(num_rows)]\n",
    "        self._k = k\n",
    "\n",
    "    def __bool__(self):\n",
    "        return sum(self._rows) > 0\n",
    "\n",
    "    def __str__(self):\n",
    "        return \"<\" + \" \".join(str(_) for _ in self._rows) + \">\"\n",
    "\n",
    "    @property\n",
    "    def rows(self) -> tuple:\n",
    "        return tuple(self._rows)\n",
    "\n",
    "    @property\n",
    "    def k(self) -> int:\n",
    "        return self._k\n",
    "\n",
    "    def nimming(self, ply: Nimply) -> None:\n",
    "        row, num_objects = ply\n",
    "        assert self._rows[row] >= num_objects\n",
    "        assert self._k is None or num_objects <= self._k\n",
    "        self._rows[row] -= num_objects"
   ]
  },
  {
   "cell_type": "markdown",
   "metadata": {
    "pycharm": {
     "name": "#%% md\n"
    }
   },
   "source": [
    "## Sample (and silly) startegies "
   ]
  },
  {
   "cell_type": "code",
   "execution_count": 831,
   "metadata": {
    "pycharm": {
     "name": "#%%\n"
    }
   },
   "outputs": [],
   "source": [
    "def pure_random(state: Nim) -> Nimply:\n",
    "    row = random.choice([r for r, c in enumerate(state.rows) if c > 0])\n",
    "    num_objects = random.randint(1, state.rows[row])\n",
    "    return Nimply(row, num_objects)"
   ]
  },
  {
   "cell_type": "code",
   "execution_count": 832,
   "metadata": {
    "pycharm": {
     "name": "#%%\n"
    }
   },
   "outputs": [],
   "source": [
    "def gabriele(state: Nim) -> Nimply:\n",
    "    \"\"\"Pick always the maximum possible number of the lowest row\"\"\"\n",
    "    possible_moves = [(r, o) for r, c in enumerate(state.rows) for o in range(1, c + 1)]\n",
    "    return Nimply(*max(possible_moves, key=lambda m: (-m[0], m[1])))"
   ]
  },
  {
   "cell_type": "code",
   "execution_count": 833,
   "metadata": {
    "pycharm": {
     "name": "#%%\n"
    }
   },
   "outputs": [],
   "source": [
    "def nim_sum(state: Nim) -> int:\n",
    "    *_, result = accumulate(state.rows, xor)\n",
    "    return result\n",
    "\n",
    "\n",
    "def cook_status(state: Nim) -> dict:\n",
    "    cooked = dict()\n",
    "\n",
    "\n",
    "    cooked[\"possible_moves\"] = [\n",
    "        (r, o) for r, c in enumerate(state.rows) for o in range(1, c + 1) if state.k is None or o <= state.k\n",
    "    ]\n",
    "    cooked[\"active_rows_number\"] = sum(o > 0 for o in state.rows)\n",
    "    cooked[\"shortest_row\"] = min((x for x in enumerate(state.rows) if x[1] > 0), key=lambda y: y[1])[0]\n",
    "    cooked[\"longest_row\"] = max((x for x in enumerate(state.rows)), key=lambda y: y[1])[0]\n",
    "    #cooked[\"nim_sum\"] = nim_sum(state)\n",
    "    cooked[\"avg_objects\"] = sum(i for i in state.rows)/len(state.rows)\n",
    "    cooked[\"over_avg_rows\"] = list(i for i, e in enumerate(state.rows) if e >= cooked[\"avg_objects\"])\n",
    "    cooked[\"under_avg_rows\"] = list(i for i, e in enumerate(state.rows) if e <= cooked[\"avg_objects\"] and e != 0)\n",
    "\n",
    "    if cooked[\"active_rows_number\"]/len(state.rows) > 0.8:\n",
    "        cooked[\"game_type\"] = \"early\"\n",
    "    elif cooked[\"active_rows_number\"]/len(state.rows) > 0.2:\n",
    "        cooked[\"game_type\"] = \"mid\"\n",
    "    else:\n",
    "        cooked[\"game_type\"] = \"end\"\n",
    "\n",
    "    brute_force = list()\n",
    "    for m in cooked[\"possible_moves\"]:\n",
    "        tmp = deepcopy(state)\n",
    "        tmp.nimming(m)\n",
    "        brute_force.append((m, nim_sum(tmp)))\n",
    "    cooked[\"brute_force\"] = brute_force\n",
    "\n",
    "\n",
    "    return cooked"
   ]
  },
  {
   "cell_type": "code",
   "execution_count": 834,
   "metadata": {
    "pycharm": {
     "name": "#%%\n"
    }
   },
   "outputs": [],
   "source": [
    "def optimal_strategy(state: Nim) -> Nimply:\n",
    "    data = cook_status(state)\n",
    "    return next((bf for bf in data[\"brute_force\"] if bf[1] == 0), random.choice(data[\"brute_force\"]))[0]"
   ]
  },
  {
   "cell_type": "code",
   "execution_count": 835,
   "outputs": [],
   "source": [
    "def strange_strategy(state: Nim) -> Nimply:\n",
    "    cooked = cook_status(state)\n",
    "    if abs(cooked[\"avg_objects\"] - state.rows[cooked[\"longest_row\"]]) < abs(cooked[\"avg_objects\"] - state.rows[cooked[\"shortest_row\"]]) or len(cooked[\"under_avg_rows\"]) == 0:\n",
    "        row = random.choice(cooked[\"over_avg_rows\"])\n",
    "        num_objects = random.randint(1, state.rows[row])\n",
    "    else:\n",
    "        row = random.choice(cooked[\"under_avg_rows\"])\n",
    "        num_objects = random.randint(1, state.rows[row])\n",
    "    return Nimply(row, num_objects)"
   ],
   "metadata": {
    "collapsed": false,
    "pycharm": {
     "name": "#%%\n"
    }
   }
  },
  {
   "cell_type": "code",
   "execution_count": 836,
   "outputs": [],
   "source": [
    "def strategy_v2(state: Nim) -> Nimply:\n",
    "    cooked = cook_status(state)\n",
    "    if cooked[\"active_rows_number\"] % 3 == 0:\n",
    "        row = random.choice([i for i, e in enumerate (state.rows) if e > 0])\n",
    "        num_objects = state.rows[row]\n",
    "\n",
    "    elif cooked[\"active_rows_number\"] % 2 == 0:\n",
    "        if state.rows[cooked[\"longest_row\"]] > 1:\n",
    "            row = random.choice([i for i, e in enumerate (state.rows) if e > 1])\n",
    "            num_objects = state.rows[row]-1\n",
    "        else:\n",
    "            row = random.choice([i for i, e in enumerate (state.rows) if e > 0])\n",
    "            num_objects = state.rows[row]\n",
    "\n",
    "    else:\n",
    "        row = random.choice([i for i, e in enumerate (state.rows) if e > 0])\n",
    "        #num_objects = random.randint(1, max(1, state.rows[row]-1))\n",
    "        num_objects = state.rows[row]\n",
    "\n",
    "    return Nimply(row, num_objects)"
   ],
   "metadata": {
    "collapsed": false,
    "pycharm": {
     "name": "#%%\n"
    }
   }
  },
  {
   "cell_type": "code",
   "execution_count": 837,
   "outputs": [],
   "source": [
    "def strategy_v3(state: Nim) -> Nimply:\n",
    "    cooked = cook_status(state)\n",
    "\n",
    "    if cooked[\"active_rows_number\"] % 2 == 1:\n",
    "        row = random.choice([i for i, e in enumerate (state.rows) if e > 0])\n",
    "        num_objects = state.rows[row]\n",
    "\n",
    "    else:\n",
    "        if state.rows[cooked[\"longest_row\"]] > 1:\n",
    "            row = random.choice([i for i, e in enumerate (state.rows) if e > 1])\n",
    "            num_objects = state.rows[row]-1\n",
    "        else:\n",
    "            row = random.choice([i for i, e in enumerate (state.rows) if e > 0])\n",
    "            num_objects = state.rows[row]\n",
    "\n",
    "    return Nimply(row, num_objects)"
   ],
   "metadata": {
    "collapsed": false,
    "pycharm": {
     "name": "#%%\n"
    }
   }
  },
  {
   "cell_type": "code",
   "execution_count": 838,
   "metadata": {
    "pycharm": {
     "name": "#%%\n"
    }
   },
   "outputs": [],
   "source": [
    "def make_strategy(genome: dict) -> Callable:\n",
    "    def evolvable(state: Nim) -> Nimply:\n",
    "        data = cook_status(state)\n",
    "\n",
    "        if random.random() < genome[\"p\"]:\n",
    "            ply = Nimply(data[\"shortest_row\"], random.randint(1, state.rows[data[\"shortest_row\"]]))\n",
    "        else:\n",
    "            ply = Nimply(data[\"longest_row\"], random.randint(1, state.rows[data[\"longest_row\"]]))\n",
    "\n",
    "        return ply\n",
    "\n",
    "    return evolvable"
   ]
  },
  {
   "cell_type": "code",
   "execution_count": 839,
   "metadata": {
    "pycharm": {
     "name": "#%%\n"
    }
   },
   "outputs": [],
   "source": [
    "NUM_MATCHES = 1000\n",
    "NIM_SIZE = 10\n",
    "\n",
    "\n",
    "def evaluate(strategy: Callable) -> float:\n",
    "    opponent = (strategy, pure_random)\n",
    "    won = 0\n",
    "\n",
    "    for m in range(NUM_MATCHES):\n",
    "        nim = Nim(NIM_SIZE)\n",
    "        player = 0\n",
    "        while nim:\n",
    "            ply = opponent[player](nim)\n",
    "            nim.nimming(ply)\n",
    "            player = 1 - player\n",
    "        if player == 1:\n",
    "            won += 1\n",
    "    return won / NUM_MATCHES"
   ]
  },
  {
   "cell_type": "code",
   "execution_count": 840,
   "outputs": [
    {
     "data": {
      "text/plain": "0.921"
     },
     "execution_count": 840,
     "metadata": {},
     "output_type": "execute_result"
    }
   ],
   "source": [
    "evaluate(strategy_v3)"
   ],
   "metadata": {
    "collapsed": false,
    "pycharm": {
     "name": "#%%\n"
    }
   }
  },
  {
   "cell_type": "markdown",
   "metadata": {
    "pycharm": {
     "name": "#%% md\n"
    }
   },
   "source": [
    "## Oversimplified match"
   ]
  },
  {
   "cell_type": "code",
   "execution_count": 841,
   "outputs": [
    {
     "name": "stderr",
     "output_type": "stream",
     "text": [
      "DEBUG:root:status: Initial board  -> <1 3 5 7 9 11 13 15 17 19>\n",
      "DEBUG:root:status: After player 0 -> <1 3 5 1 9 11 13 15 17 19>\n",
      "DEBUG:root:status: After player 1 -> <1 3 5 0 9 11 13 15 17 19>\n",
      "DEBUG:root:status: After player 0 -> <1 3 5 0 9 11 13 15 0 19>\n",
      "DEBUG:root:status: After player 1 -> <1 2 5 0 9 11 13 15 0 19>\n",
      "DEBUG:root:status: After player 0 -> <1 2 5 0 9 11 1 15 0 19>\n",
      "DEBUG:root:status: After player 1 -> <0 2 5 0 9 11 1 15 0 19>\n",
      "DEBUG:root:status: After player 0 -> <0 2 0 0 9 11 1 15 0 19>\n",
      "DEBUG:root:status: After player 1 -> <0 2 0 0 9 11 1 15 0 16>\n",
      "DEBUG:root:status: After player 0 -> <0 1 0 0 9 11 1 15 0 16>\n",
      "DEBUG:root:status: After player 1 -> <0 1 0 0 9 11 1 15 0 14>\n",
      "DEBUG:root:status: After player 0 -> <0 1 0 0 1 11 1 15 0 14>\n",
      "DEBUG:root:status: After player 1 -> <0 1 0 0 1 11 0 15 0 14>\n",
      "DEBUG:root:status: After player 0 -> <0 1 0 0 1 0 0 15 0 14>\n",
      "DEBUG:root:status: After player 1 -> <0 1 0 0 0 0 0 15 0 14>\n",
      "DEBUG:root:status: After player 0 -> <0 1 0 0 0 0 0 15 0 0>\n",
      "DEBUG:root:status: After player 1 -> <0 0 0 0 0 0 0 15 0 0>\n",
      "DEBUG:root:status: After player 0 -> <0 0 0 0 0 0 0 0 0 0>\n",
      "INFO:root:status: Player 0 won!\n"
     ]
    }
   ],
   "source": [
    "logging.getLogger().setLevel(logging.DEBUG)\n",
    "\n",
    "strategy = (strategy_v3, pure_random)\n",
    "\n",
    "nim = Nim(10)\n",
    "logging.debug(f\"status: Initial board  -> {nim}\")\n",
    "player = 0\n",
    "while nim:\n",
    "    ply = strategy[player](nim)\n",
    "    nim.nimming(ply)\n",
    "    logging.debug(f\"status: After player {player} -> {nim}\")\n",
    "    player = 1 - player\n",
    "winner = 1 - player\n",
    "logging.info(f\"status: Player {winner} won!\")"
   ],
   "metadata": {
    "collapsed": false,
    "pycharm": {
     "name": "#%%\n"
    }
   }
  }
 ],
 "metadata": {
  "kernelspec": {
   "display_name": "Python 3.10.7 ('ci22-dPIXJ0_o-py3.10')",
   "language": "python",
   "name": "python3"
  },
  "language_info": {
   "codemirror_mode": {
    "name": "ipython",
    "version": 3
   },
   "file_extension": ".py",
   "mimetype": "text/x-python",
   "name": "python",
   "nbconvert_exporter": "python",
   "pygments_lexer": "ipython3",
   "version": "3.10.7"
  },
  "vscode": {
   "interpreter": {
    "hash": "10197e8e2f2aa67e2c349105091c77f4cd384fce4877865f002d9ec653f96bc0"
   }
  }
 },
 "nbformat": 4,
 "nbformat_minor": 2
}