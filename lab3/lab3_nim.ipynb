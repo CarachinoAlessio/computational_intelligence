{
 "cells": [
  {
   "cell_type": "markdown",
   "source": [
    "# Lab 3: Policy Search\n",
    "\n",
    "## Task\n",
    "\n",
    "Write agents able to play [*Nim*](https://en.wikipedia.org/wiki/Nim), with an arbitrary number of rows and an upper bound $k$ on the number of objects that can be removed in a turn (a.k.a., *subtraction game*).\n",
    "\n",
    "The player **taking the last object wins**.\n",
    "\n",
    "* Task3.1: An agent using fixed rules based on *nim-sum* (i.e., an *expert system*)\n",
    "* Task3.2: An agent using evolved rules\n",
    "* Task3.3: An agent using minmax\n",
    "* Task3.4: An agent using reinforcement learning\n",
    "\n",
    "## Instructions\n",
    "\n",
    "* Create the directory `lab3` inside the course repo \n",
    "* Put a `README.md` and your solution (all the files, code and auxiliary data if needed)"
   ],
   "metadata": {
    "collapsed": false,
    "pycharm": {
     "name": "#%% md\n"
    }
   }
  },
  {
   "cell_type": "code",
   "execution_count": 1,
   "metadata": {
    "pycharm": {
     "name": "#%%\n"
    }
   },
   "outputs": [],
   "source": [
    "import importlib\n",
    "import task1_lib\n",
    "import task2_lib\n",
    "\n",
    "from task1_lib import gabriele, pure_random, strategy_v3\n",
    "from task2_lib import run_GA, strategy_ga\n",
    "\n",
    "from nim_utils import *"
   ]
  },
  {
   "cell_type": "markdown",
   "metadata": {
    "pycharm": {
     "name": "#%% md\n"
    }
   },
   "source": [
    "# Task 1"
   ]
  },
  {
   "cell_type": "code",
   "execution_count": 2,
   "outputs": [],
   "source": [
    "importlib.reload(task1_lib)\n",
    "\n",
    "NUM_MATCHES = 1000\n",
    "NIM_SIZE = 10\n",
    "K_SIZE = None\n",
    "\n",
    "#print(f\"Win-rate against {gabriele.__name__}: {evaluate(strategy_v3, gabriele, NUM_MATCHES, NIM_SIZE, k_size=K_SIZE)}\")\n",
    "#print(f\"Win-rate against {pure_random.__name__}: {evaluate(strategy_v3, pure_random, NUM_MATCHES, NIM_SIZE, k_size=K_SIZE)}\")\n"
   ],
   "metadata": {
    "collapsed": false,
    "pycharm": {
     "name": "#%%\n"
    }
   }
  },
  {
   "cell_type": "markdown",
   "source": [
    "# Task 2"
   ],
   "metadata": {
    "collapsed": false,
    "pycharm": {
     "name": "#%% md\n"
    }
   }
  },
  {
   "cell_type": "code",
   "execution_count": 3,
   "outputs": [
    {
     "name": "stdout",
     "output_type": "stream",
     "text": [
      "[info] - Start generating the population\n"
     ]
    },
    {
     "name": "stderr",
     "output_type": "stream",
     "text": [
      "100%|██████████| 30/30 [00:00<00:00, 46.58it/s]\n",
      "100%|██████████| 100/100 [00:29<00:00,  3.35it/s]\n"
     ]
    },
    {
     "name": "stdout",
     "output_type": "stream",
     "text": [
      "solution: {'alpha': 0.7177423803434867, 'beta': 0.6586808163438539}\n",
      "Win-rate against gabriele: 1.0\n",
      "Win-rate against pure_random: 0.923\n"
     ]
    }
   ],
   "source": [
    "importlib.reload(task2_lib)\n",
    "\n",
    "best_genome = run_GA()\n",
    "print(f\"Win-rate against gabriele: {evaluate_GA(best_genome, strategy_ga, gabriele, NUM_MATCHES, NIM_SIZE, k_size=K_SIZE)}\")\n",
    "print(f\"Win-rate against pure_random: {evaluate_GA(best_genome, strategy_ga, pure_random, NUM_MATCHES, NIM_SIZE, k_size=K_SIZE)}\")"
   ],
   "metadata": {
    "collapsed": false,
    "pycharm": {
     "name": "#%%\n"
    }
   }
  },
  {
   "cell_type": "markdown",
   "source": [
    "# Task 3"
   ],
   "metadata": {
    "collapsed": false,
    "pycharm": {
     "name": "#%% md\n"
    }
   }
  },
  {
   "cell_type": "markdown",
   "source": [
    "# Task 4"
   ],
   "metadata": {
    "collapsed": false,
    "pycharm": {
     "name": "#%% md\n"
    }
   }
  },
  {
   "cell_type": "markdown",
   "metadata": {
    "pycharm": {
     "name": "#%% md\n"
    }
   },
   "source": [
    "## Oversimplified match"
   ]
  },
  {
   "cell_type": "code",
   "execution_count": 4,
   "outputs": [
    {
     "name": "stdout",
     "output_type": "stream",
     "text": [
      "status: After player 0 -> <1 3 5 7 9 1 13 15 17 19>\n",
      "status: After player 1 -> <1 3 5 7 9 1 13 15 3 19>\n",
      "status: After player 0 -> <1 3 5 7 9 1 13 15 1 19>\n",
      "status: After player 1 -> <1 3 5 6 9 1 13 15 1 19>\n",
      "status: After player 0 -> <1 3 1 6 9 1 13 15 1 19>\n",
      "status: After player 1 -> <1 3 1 6 9 1 9 15 1 19>\n",
      "status: After player 0 -> <1 3 1 6 9 1 9 1 1 19>\n",
      "status: After player 1 -> <1 3 0 6 9 1 9 1 1 19>\n",
      "status: After player 0 -> <1 3 0 6 9 0 9 1 1 19>\n",
      "status: After player 1 -> <1 3 0 6 9 0 9 1 0 19>\n",
      "status: After player 0 -> <0 3 0 6 9 0 9 1 0 19>\n",
      "status: After player 1 -> <0 3 0 3 9 0 9 1 0 19>\n",
      "status: After player 0 -> <0 3 0 3 1 0 9 1 0 19>\n",
      "status: After player 1 -> <0 3 0 0 1 0 9 1 0 19>\n",
      "status: After player 0 -> <0 3 0 0 1 0 9 0 0 19>\n",
      "status: After player 1 -> <0 3 0 0 1 0 7 0 0 19>\n",
      "status: After player 0 -> <0 1 0 0 1 0 7 0 0 19>\n",
      "status: After player 1 -> <0 0 0 0 1 0 7 0 0 19>\n",
      "status: After player 0 -> <0 0 0 0 1 0 7 0 0 0>\n",
      "status: After player 1 -> <0 0 0 0 0 0 7 0 0 0>\n",
      "status: After player 0 -> <0 0 0 0 0 0 0 0 0 0>\n",
      "status: Player 0 won!\n"
     ]
    }
   ],
   "source": [
    "play_match(strategy_v3, pure_random, 10, k_size=None)"
   ],
   "metadata": {
    "collapsed": false,
    "pycharm": {
     "name": "#%%\n"
    }
   }
  }
 ],
 "metadata": {
  "kernelspec": {
   "display_name": "Python 3.10.7 ('ci22-dPIXJ0_o-py3.10')",
   "language": "python",
   "name": "python3"
  },
  "language_info": {
   "codemirror_mode": {
    "name": "ipython",
    "version": 3
   },
   "file_extension": ".py",
   "mimetype": "text/x-python",
   "name": "python",
   "nbconvert_exporter": "python",
   "pygments_lexer": "ipython3",
   "version": "3.10.7"
  },
  "vscode": {
   "interpreter": {
    "hash": "10197e8e2f2aa67e2c349105091c77f4cd384fce4877865f002d9ec653f96bc0"
   }
  }
 },
 "nbformat": 4,
 "nbformat_minor": 2
}