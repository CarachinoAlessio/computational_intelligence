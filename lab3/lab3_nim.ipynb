{
 "cells": [
  {
   "cell_type": "markdown",
   "source": [
    "# Lab 3: Policy Search\n",
    "\n",
    "## Task\n",
    "\n",
    "Write agents able to play [*Nim*](https://en.wikipedia.org/wiki/Nim), with an arbitrary number of rows and an upper bound $k$ on the number of objects that can be removed in a turn (a.k.a., *subtraction game*).\n",
    "\n",
    "The goal of the game is to **avoid** taking the last object.\n",
    "\n",
    "* Task3.1: An agent using fixed rules based on *nim-sum* (i.e., an *expert system*)\n",
    "* Task3.2: An agent using evolved rules\n",
    "* Task3.3: An agent using minmax\n",
    "* Task3.4: An agent using reinforcement learning\n",
    "\n",
    "## Instructions\n",
    "\n",
    "* Create the directory `lab3` inside the course repo \n",
    "* Put a `README.md` and your solution (all the files, code and auxiliary data if needed)\n",
    "\n",
    "## Notes\n",
    "\n",
    "* Working in group is not only allowed, but recommended (see: [Ubuntu](https://en.wikipedia.org/wiki/Ubuntu_philosophy) and [Cooperative Learning](https://files.eric.ed.gov/fulltext/EJ1096789.pdf)). Collaborations must be explicitly declared in the `README.md`.\n",
    "* [Yanking](https://www.emacswiki.org/emacs/KillingAndYanking) from the internet is allowed, but sources must be explicitly declared in the `README.md`.\n",
    "\n",
    "**Deadline**\n",
    "\n",
    "T.b.d.\n"
   ],
   "metadata": {
    "collapsed": false,
    "pycharm": {
     "name": "#%% md\n"
    }
   }
  },
  {
   "cell_type": "code",
   "execution_count": 1,
   "metadata": {},
   "outputs": [],
   "source": [
    "import logging\n",
    "from collections import namedtuple\n",
    "import random"
   ]
  },
  {
   "cell_type": "markdown",
   "metadata": {},
   "source": [
    "## The *Nim* and *Nimply* classes"
   ]
  },
  {
   "cell_type": "code",
   "execution_count": 2,
   "metadata": {},
   "outputs": [],
   "source": [
    "Nimply = namedtuple(\"Nimply\", \"row, num_objects\")"
   ]
  },
  {
   "cell_type": "code",
   "execution_count": 3,
   "metadata": {},
   "outputs": [],
   "source": [
    "class Nim:\n",
    "    def __init__(self, num_rows: int, k: int = None) -> None:\n",
    "        self._rows = [i * 2 + 1 for i in range(num_rows)]\n",
    "        self._k = k\n",
    "\n",
    "    def __bool__(self):\n",
    "        return sum(self._rows) > 0\n",
    "\n",
    "    def __str__(self):\n",
    "        return \"<\" + \" \".join(str(_) for _ in self._rows) + \">\"\n",
    "\n",
    "    @property\n",
    "    def rows(self) -> tuple:\n",
    "        return tuple(self._rows)\n",
    "\n",
    "    def nimming(self, ply: Nimply) -> None:\n",
    "        row, num_objects = ply\n",
    "        assert self._rows[row] >= num_objects\n",
    "        assert self._k is None or num_objects <= self._k\n",
    "        self._rows[row] -= num_objects"
   ]
  },
  {
   "cell_type": "markdown",
   "metadata": {},
   "source": [
    "## Sample (and silly) startegies "
   ]
  },
  {
   "cell_type": "code",
   "execution_count": 4,
   "metadata": {},
   "outputs": [],
   "source": [
    "def pure_random(state: Nim) -> Nimply:\n",
    "    row = random.choice([r for r, c in enumerate(state.rows) if c > 0])\n",
    "    num_objects = random.randint(1, state.rows[row])\n",
    "    return Nimply(row, num_objects)"
   ]
  },
  {
   "cell_type": "code",
   "execution_count": 5,
   "metadata": {},
   "outputs": [],
   "source": [
    "def gabriele(state: Nim) -> Nimply:\n",
    "    \"\"\"Pick always the maximum possible number of the lowest row\"\"\"\n",
    "    possible_moves = [(r, o) for r, c in enumerate(state.rows) for o in range(1, c + 1)]\n",
    "    return Nimply(*max(possible_moves, key=lambda m: (-m[0], m[1])))"
   ]
  },
  {
   "cell_type": "markdown",
   "metadata": {},
   "source": [
    "## Oversimplified match"
   ]
  },
  {
   "cell_type": "code",
   "execution_count": 6,
   "metadata": {},
   "outputs": [
    {
     "name": "stderr",
     "output_type": "stream",
     "text": [
      "DEBUG:root:status: Initial board  -> <1 3 5 7 9 11 13 15 17 19 21>\n",
      "DEBUG:root:status: After player 0 -> <1 1 5 7 9 11 13 15 17 19 21>\n",
      "DEBUG:root:status: After player 1 -> <0 1 5 7 9 11 13 15 17 19 21>\n",
      "DEBUG:root:status: After player 0 -> <0 1 5 7 9 5 13 15 17 19 21>\n",
      "DEBUG:root:status: After player 1 -> <0 0 5 7 9 5 13 15 17 19 21>\n",
      "DEBUG:root:status: After player 0 -> <0 0 5 7 9 5 13 15 17 19 14>\n",
      "DEBUG:root:status: After player 1 -> <0 0 0 7 9 5 13 15 17 19 14>\n",
      "DEBUG:root:status: After player 0 -> <0 0 0 7 9 5 13 15 17 19 8>\n",
      "DEBUG:root:status: After player 1 -> <0 0 0 0 9 5 13 15 17 19 8>\n",
      "DEBUG:root:status: After player 0 -> <0 0 0 0 9 5 13 12 17 19 8>\n",
      "DEBUG:root:status: After player 1 -> <0 0 0 0 0 5 13 12 17 19 8>\n",
      "DEBUG:root:status: After player 0 -> <0 0 0 0 0 5 13 12 9 19 8>\n",
      "DEBUG:root:status: After player 1 -> <0 0 0 0 0 0 13 12 9 19 8>\n",
      "DEBUG:root:status: After player 0 -> <0 0 0 0 0 0 13 2 9 19 8>\n",
      "DEBUG:root:status: After player 1 -> <0 0 0 0 0 0 0 2 9 19 8>\n",
      "DEBUG:root:status: After player 0 -> <0 0 0 0 0 0 0 2 9 16 8>\n",
      "DEBUG:root:status: After player 1 -> <0 0 0 0 0 0 0 0 9 16 8>\n",
      "DEBUG:root:status: After player 0 -> <0 0 0 0 0 0 0 0 9 16 5>\n",
      "DEBUG:root:status: After player 1 -> <0 0 0 0 0 0 0 0 0 16 5>\n",
      "DEBUG:root:status: After player 0 -> <0 0 0 0 0 0 0 0 0 8 5>\n",
      "DEBUG:root:status: After player 1 -> <0 0 0 0 0 0 0 0 0 0 5>\n",
      "DEBUG:root:status: After player 0 -> <0 0 0 0 0 0 0 0 0 0 2>\n",
      "DEBUG:root:status: After player 1 -> <0 0 0 0 0 0 0 0 0 0 0>\n",
      "INFO:root:status: Player 0 won!\n"
     ]
    }
   ],
   "source": [
    "logging.getLogger().setLevel(logging.DEBUG)\n",
    "\n",
    "strategy = (pure_random, gabriele)\n",
    "\n",
    "nim = Nim(11)\n",
    "logging.debug(f\"status: Initial board  -> {nim}\")\n",
    "player = 0\n",
    "while nim:\n",
    "    ply = strategy[player](nim)\n",
    "    nim.nimming(ply)\n",
    "    logging.debug(f\"status: After player {player} -> {nim}\")\n",
    "    player = 1 - player\n",
    "logging.info(f\"status: Player {player} won!\")"
   ]
  },
  {
   "cell_type": "code",
   "execution_count": null,
   "metadata": {},
   "outputs": [],
   "source": []
  }
 ],
 "metadata": {
  "kernelspec": {
   "display_name": "Python 3.10.8 ('ci22-nMP5xzaq-py3.10')",
   "language": "python",
   "name": "python3"
  },
  "language_info": {
   "codemirror_mode": {
    "name": "ipython",
    "version": 3
   },
   "file_extension": ".py",
   "mimetype": "text/x-python",
   "name": "python",
   "nbconvert_exporter": "python",
   "pygments_lexer": "ipython3",
   "version": "3.10.8"
  },
  "vscode": {
   "interpreter": {
    "hash": "314bb335b27df49d59fdf0b23a7100bc1f20b00d36589d87e4d874b2fae58cd2"
   }
  }
 },
 "nbformat": 4,
 "nbformat_minor": 2
}