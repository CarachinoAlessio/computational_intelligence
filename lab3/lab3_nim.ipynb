{
 "cells": [
  {
   "cell_type": "markdown",
   "metadata": {
    "collapsed": false,
    "pycharm": {
     "name": "#%% md\n"
    }
   },
   "source": [
    "# Lab 3: Policy Search\n",
    "\n",
    "## Task\n",
    "\n",
    "Write agents able to play [*Nim*](https://en.wikipedia.org/wiki/Nim), with an arbitrary number of rows and an upper bound $k$ on the number of objects that can be removed in a turn (a.k.a., *subtraction game*).\n",
    "\n",
    "The player **taking the last object wins**.\n",
    "\n",
    "* Task3.1: An agent using fixed rules based on *nim-sum* (i.e., an *expert system*)\n",
    "* Task3.2: An agent using evolved rules\n",
    "* Task3.3: An agent using minmax\n",
    "* Task3.4: An agent using reinforcement learning\n",
    "\n",
    "## Instructions\n",
    "\n",
    "* Create the directory `lab3` inside the course repo \n",
    "* Put a `README.md` and your solution (all the files, code and auxiliary data if needed)"
   ]
  },
  {
   "cell_type": "code",
   "execution_count": null,
   "outputs": [],
   "source": [
    "%load_ext autoreload\n",
    "%autoreload 2\n",
    "\n",
    "from task1_lib import gabriele, pure_random, fixed_rules_strategy, optimal_strategy\n",
    "from task2_lib import run_GA, strategy_0, strategy_1, strategy_2\n",
    "from task3_lib import task_3_run\n",
    "from task4_lib import task4_Q, task4_Q_optimal\n",
    "from nim_utils import evaluate, evaluate_GA, play_match"
   ],
   "metadata": {
    "collapsed": false,
    "pycharm": {
     "name": "#%%\n",
     "is_executing": true
    }
   }
  },
  {
   "cell_type": "markdown",
   "source": [
    "# Task 1"
   ],
   "metadata": {
    "collapsed": false,
    "pycharm": {
     "name": "#%% md\n"
    }
   }
  },
  {
   "cell_type": "code",
   "execution_count": 8,
   "outputs": [
    {
     "name": "stdout",
     "output_type": "stream",
     "text": [
      "Win-rate against gabriele: 1.0\n",
      "Win-rate against pure_random: 0.93\n"
     ]
    }
   ],
   "source": [
    "NUM_MATCHES = 100\n",
    "NIM_SIZE = 10\n",
    "K_SIZE = None\n",
    "\n",
    "print(f\"Win-rate against {gabriele.__name__}: {evaluate(fixed_rules_strategy, gabriele, NUM_MATCHES, NIM_SIZE, k_size=K_SIZE)}\")\n",
    "print(f\"Win-rate against {pure_random.__name__}: {evaluate(fixed_rules_strategy, pure_random, NUM_MATCHES, NIM_SIZE, k_size=K_SIZE)}\")\n"
   ],
   "metadata": {
    "collapsed": false,
    "pycharm": {
     "name": "#%%\n"
    }
   }
  },
  {
   "cell_type": "markdown",
   "source": [
    "# Task 2"
   ],
   "metadata": {
    "collapsed": false,
    "pycharm": {
     "name": "#%% md\n"
    }
   }
  },
  {
   "cell_type": "code",
   "execution_count": 6,
   "outputs": [
    {
     "name": "stdout",
     "output_type": "stream",
     "text": [
      "**********************  Strategy 0  **********************\n",
      "[info] - Start generating the population\n"
     ]
    },
    {
     "name": "stderr",
     "output_type": "stream",
     "text": [
      "100%|██████████| 50/50 [00:03<00:00, 16.27it/s]\n"
     ]
    },
    {
     "name": "stdout",
     "output_type": "stream",
     "text": [
      "[info] - Evolving...\n"
     ]
    },
    {
     "name": "stderr",
     "output_type": "stream",
     "text": [
      "100%|██████████| 150/150 [04:00<00:00,  1.60s/it]\n"
     ]
    },
    {
     "name": "stdout",
     "output_type": "stream",
     "text": [
      "[info] - Best genome found is {'alpha': 0.01800586212049826, 'beta': 0.8972145043409917, 'gamma': 0.995560494814241} with fitness: (0.97, 0.53)\n",
      "Win-rate against gabriele: 0.84\n",
      "Win-rate against pure_random: 0.51\n",
      "**********************  Strategy 1  **********************\n",
      "[info] - Start generating the population\n"
     ]
    },
    {
     "name": "stderr",
     "output_type": "stream",
     "text": [
      "100%|██████████| 50/50 [00:02<00:00, 23.08it/s]\n"
     ]
    },
    {
     "name": "stdout",
     "output_type": "stream",
     "text": [
      "[info] - Evolving...\n"
     ]
    },
    {
     "name": "stderr",
     "output_type": "stream",
     "text": [
      "100%|██████████| 30/30 [00:24<00:00,  1.20it/s]\n"
     ]
    },
    {
     "name": "stdout",
     "output_type": "stream",
     "text": [
      "[info] - Best genome found is {'alpha': 0.4616514831786915, 'beta': 0.047724304547968166} with fitness: (1.0, 0.98)\n",
      "Win-rate against gabriele: 1.0\n",
      "Win-rate against pure_random: 0.9\n",
      "**********************  Strategy 2  **********************\n",
      "[info] - Start generating the population\n"
     ]
    },
    {
     "name": "stderr",
     "output_type": "stream",
     "text": [
      "100%|██████████| 50/50 [01:10<00:00,  1.41s/it]\n"
     ]
    },
    {
     "name": "stdout",
     "output_type": "stream",
     "text": [
      "[info] - Evolving...\n"
     ]
    },
    {
     "name": "stderr",
     "output_type": "stream",
     "text": [
      "100%|██████████| 30/30 [18:25<00:00, 36.86s/it]\n"
     ]
    },
    {
     "name": "stdout",
     "output_type": "stream",
     "text": [
      "[info] - Best genome found is {'alpha': 0.012349345323732993, 'beta': 0.10731537121275468, 'gamma': 0.8692153589304976, 'percentage': 0.51064632792086} with fitness: 0.99\n",
      "Win-rate against gabriele: 0.95\n",
      "Win-rate against pure_random: 0.95\n"
     ]
    }
   ],
   "source": [
    "# Strategy 0\n",
    "print(f\"**********************  Strategy 0  **********************\")\n",
    "genome_parameters = [\"alpha\", \"beta\", \"gamma\"]\n",
    "num_generations = 150\n",
    "best_genome = run_GA(genome_parameters, strategy_0, num_generations)\n",
    "\n",
    "print(f\"Win-rate against gabriele: {evaluate_GA(best_genome, strategy_0, gabriele, NUM_MATCHES, NIM_SIZE, k_size=K_SIZE)}\")\n",
    "print(f\"Win-rate against pure_random: {evaluate_GA(best_genome, strategy_0, pure_random, NUM_MATCHES, NIM_SIZE, k_size=K_SIZE)}\")\n",
    "\n",
    "\n",
    "# Strategy 1\n",
    "print(f\"**********************  Strategy 1  **********************\")\n",
    "genome_parameters = [\"alpha\", \"beta\"]\n",
    "num_generations = 30\n",
    "best_genome = run_GA(genome_parameters, strategy_1, num_generations)\n",
    "\n",
    "print(f\"Win-rate against gabriele: {evaluate_GA(best_genome, strategy_1, gabriele, NUM_MATCHES, NIM_SIZE, k_size=K_SIZE)}\")\n",
    "print(f\"Win-rate against pure_random: {evaluate_GA(best_genome, strategy_1, pure_random, NUM_MATCHES, NIM_SIZE, k_size=K_SIZE)}\")\n",
    "\n",
    "\n",
    "# Strategy 2\n",
    "print(f\"**********************  Strategy 2  **********************\")\n",
    "genome_parameters = [\"alpha\", \"beta\", \"gamma\", \"percentage\"]\n",
    "num_generations = 30\n",
    "best_genome = run_GA(genome_parameters, strategy_2, num_generations)\n",
    "\n",
    "print(f\"Win-rate against gabriele: {evaluate_GA(best_genome, strategy_2, gabriele, NUM_MATCHES, NIM_SIZE, k_size=K_SIZE)}\")\n",
    "print(f\"Win-rate against pure_random: {evaluate_GA(best_genome, strategy_2, pure_random, NUM_MATCHES, NIM_SIZE, k_size=K_SIZE)}\")"
   ],
   "metadata": {
    "collapsed": false,
    "pycharm": {
     "name": "#%%\n"
    }
   }
  },
  {
   "cell_type": "code",
   "execution_count": null,
   "outputs": [],
   "source": [
    "import random\n",
    "from nimply import Nim\n",
    "\n",
    "def challenge(genome0, strategy_0, genome1, strategy_1, num_matches=100, nim_size=10, k_size=None):\n",
    "    won = 0\n",
    "\n",
    "    for m in range(num_matches):\n",
    "        nim = Nim(nim_size, k=k_size)\n",
    "        player = random.randint(0, 1)\n",
    "        while nim:\n",
    "            if player == 0:\n",
    "                ply = strategy_0(nim, genome0)\n",
    "            else:\n",
    "                ply = strategy_1(nim, genome1)\n",
    "            nim.nimming(ply)\n",
    "            player = 1 - player\n",
    "        if player == 1:\n",
    "            won += 1\n",
    "    return won / num_matches\n",
    "\n",
    "genome0 = {'alpha': 0.33806644070961167, 'beta': 0.8983983212868427, 'gamma': 0.9974669535320325}\n",
    "genome1 = {'alpha': 0.8191618758747532, 'beta': 0.10484407005864857}\n",
    "\n",
    "challenge(genome0, strategy_0, genome1, strategy_1)"
   ],
   "metadata": {
    "collapsed": false,
    "pycharm": {
     "name": "#%%\n"
    }
   }
  },
  {
   "cell_type": "markdown",
   "source": [
    "# Task 3"
   ],
   "metadata": {
    "collapsed": false,
    "pycharm": {
     "name": "#%% md\n"
    }
   }
  },
  {
   "cell_type": "code",
   "execution_count": 9,
   "outputs": [
    {
     "name": "stderr",
     "output_type": "stream",
     "text": [
      "INFO:root:status: Minmax won!\n"
     ]
    },
    {
     "name": "stdout",
     "output_type": "stream",
     "text": [
      "--- 0.06308794021606445 seconds ---\n"
     ]
    }
   ],
   "source": [
    "opponent_strategy = pure_random\n",
    "#opponent_strategy = optimal_strategy\n",
    "is_opponent_starting = True\n",
    "\n",
    "task_3_run(pure_random, is_opponent_starting)"
   ],
   "metadata": {
    "collapsed": false,
    "pycharm": {
     "name": "#%%\n"
    }
   }
  },
  {
   "cell_type": "markdown",
   "source": [
    "# Task 4"
   ],
   "metadata": {
    "collapsed": false,
    "pycharm": {
     "name": "#%% md\n"
    }
   }
  },
  {
   "cell_type": "markdown",
   "source": [
    "### Q-agent against gabriele"
   ],
   "metadata": {
    "collapsed": false,
    "pycharm": {
     "name": "#%% md\n"
    }
   }
  },
  {
   "cell_type": "code",
   "execution_count": 10,
   "outputs": [
    {
     "name": "stderr",
     "output_type": "stream",
     "text": [
      "100%|██████████| 30000/30000 [01:02<00:00, 477.39it/s]\n",
      "INFO:root:max winrate: (99.0, 29800)\n"
     ]
    },
    {
     "data": {
      "text/plain": "<Figure size 640x480 with 1 Axes>",
      "image/png": "[encoded data removed]"
     },
     "metadata": {},
     "output_type": "display_data"
    }
   ],
   "source": [
    "info = {\n",
    "    'alpha': 0.3,  # learning rate\n",
    "    'gamma': 0.9,  # memory\n",
    "    'epsilon': 0.1 # chance of making a random move\n",
    "}\n",
    "\n",
    "task4_Q(info, 5, 30000)"
   ],
   "metadata": {
    "collapsed": false,
    "pycharm": {
     "name": "#%%\n"
    }
   }
  },
  {
   "cell_type": "markdown",
   "source": [
    "## Q-agent against optimal"
   ],
   "metadata": {
    "collapsed": false,
    "pycharm": {
     "name": "#%% md\n"
    }
   }
  },
  {
   "cell_type": "code",
   "execution_count": 11,
   "outputs": [
    {
     "name": "stderr",
     "output_type": "stream",
     "text": [
      "100%|██████████| 30000/30000 [01:52<00:00, 267.18it/s]\n",
      "INFO:root:max winrate: (83.0, 18300)\n"
     ]
    },
    {
     "data": {
      "text/plain": "<Figure size 640x480 with 1 Axes>",
      "image/png": "[encoded data removed]"
     },
     "metadata": {},
     "output_type": "display_data"
    }
   ],
   "source": [
    "info = {\n",
    "    'alpha': 0.3,  # learning rate\n",
    "    'gamma': 0.9,  # memory\n",
    "    'epsilon': 0.1 # chance of making a random move\n",
    "}\n",
    "\n",
    "task4_Q_optimal(info, 5, 30000)"
   ],
   "metadata": {
    "collapsed": false,
    "pycharm": {
     "name": "#%%\n"
    }
   }
  },
  {
   "cell_type": "code",
   "execution_count": null,
   "outputs": [],
   "source": [],
   "metadata": {
    "collapsed": false,
    "pycharm": {
     "name": "#%%\n"
    }
   }
  }
 ],
 "metadata": {
  "kernelspec": {
   "display_name": "Python 3.10.8 ('lab3-0gnANNKr-py3.10')",
   "language": "python",
   "name": "python3"
  },
  "language_info": {
   "codemirror_mode": {
    "name": "ipython",
    "version": 3
   },
   "file_extension": ".py",
   "mimetype": "text/x-python",
   "name": "python",
   "nbconvert_exporter": "python",
   "pygments_lexer": "ipython3",
   "version": "3.10.8"
  },
  "vscode": {
   "interpreter": {
    "hash": "0ca3fadaa15a06f8c1099153c46bf73c899bf774a7792b70c7db15e1af23f9bc"
   }
  }
 },
 "nbformat": 4,
 "nbformat_minor": 2
}