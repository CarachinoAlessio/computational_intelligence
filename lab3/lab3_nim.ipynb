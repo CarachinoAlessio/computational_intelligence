{
 "cells": [
  {
   "cell_type": "markdown",
   "source": [
    "# Lab 3: Policy Search\n",
    "\n",
    "## Task\n",
    "\n",
    "Write agents able to play [*Nim*](https://en.wikipedia.org/wiki/Nim), with an arbitrary number of rows and an upper bound $k$ on the number of objects that can be removed in a turn (a.k.a., *subtraction game*).\n",
    "\n",
    "The player **taking the last object wins**.\n",
    "\n",
    "* Task3.1: An agent using fixed rules based on *nim-sum* (i.e., an *expert system*)\n",
    "* Task3.2: An agent using evolved rules\n",
    "* Task3.3: An agent using minmax\n",
    "* Task3.4: An agent using reinforcement learning\n",
    "\n",
    "## Instructions\n",
    "\n",
    "* Create the directory `lab3` inside the course repo \n",
    "* Put a `README.md` and your solution (all the files, code and auxiliary data if needed)"
   ],
   "metadata": {
    "collapsed": false,
    "pycharm": {
     "name": "#%% md\n"
    }
   }
  },
  {
   "cell_type": "code",
   "execution_count": 1,
   "metadata": {
    "pycharm": {
     "name": "#%%\n"
    }
   },
   "outputs": [],
   "source": [
    "%load_ext autoreload\n",
    "%autoreload 2\n",
    "\n",
    "from task1_lib import gabriele, pure_random, strategy_v3\n",
    "from task2_lib import run_GA, strategy_ga\n",
    "from nim_utils import evaluate, evaluate_GA, play_match"
   ]
  },
  {
   "cell_type": "markdown",
   "metadata": {
    "pycharm": {
     "name": "#%% md\n"
    }
   },
   "source": [
    "# Task 1"
   ]
  },
  {
   "cell_type": "code",
   "execution_count": 2,
   "outputs": [],
   "source": [
    "NUM_MATCHES = 100\n",
    "NIM_SIZE = 10\n",
    "K_SIZE = None\n",
    "\n",
    "#print(f\"Win-rate against {gabriele.__name__}: {evaluate(strategy_v3, gabriele, NUM_MATCHES, NIM_SIZE, k_size=K_SIZE)}\")\n",
    "#print(f\"Win-rate against {pure_random.__name__}: {evaluate(strategy_v3, pure_random, NUM_MATCHES, NIM_SIZE, k_size=K_SIZE)}\")\n"
   ],
   "metadata": {
    "collapsed": false,
    "pycharm": {
     "name": "#%%\n"
    }
   }
  },
  {
   "cell_type": "markdown",
   "source": [
    "# Task 2"
   ],
   "metadata": {
    "collapsed": false,
    "pycharm": {
     "name": "#%% md\n"
    }
   }
  },
  {
   "cell_type": "code",
   "execution_count": 7,
   "outputs": [
    {
     "name": "stdout",
     "output_type": "stream",
     "text": [
      "[info] - Start generating the population\n"
     ]
    },
    {
     "name": "stderr",
     "output_type": "stream",
     "text": [
      "100%|██████████| 30/30 [00:01<00:00, 27.44it/s]\n"
     ]
    },
    {
     "name": "stdout",
     "output_type": "stream",
     "text": [
      "[info] - Evolving...\n"
     ]
    },
    {
     "name": "stderr",
     "output_type": "stream",
     "text": [
      "100%|██████████| 100/100 [02:42<00:00,  1.63s/it]"
     ]
    },
    {
     "name": "stdout",
     "output_type": "stream",
     "text": [
      "[info] - Best genome found is {'alpha': 0.13455870481228693, 'beta': 0.9799679641612153, 'gamma': 0.9016061679554783} with fitness: (1.0, 0.96)\n",
      "Win-rate against gabriele: 1.0\n",
      "Win-rate against pure_random: 0.89\n"
     ]
    },
    {
     "name": "stderr",
     "output_type": "stream",
     "text": [
      "\n"
     ]
    }
   ],
   "source": [
    "best_genome = run_GA()\n",
    "print(f\"Win-rate against gabriele: {evaluate_GA(best_genome, strategy_ga, gabriele, NUM_MATCHES, NIM_SIZE, k_size=K_SIZE)}\")\n",
    "print(f\"Win-rate against pure_random: {evaluate_GA(best_genome, strategy_ga, pure_random, NUM_MATCHES, NIM_SIZE, k_size=K_SIZE)}\")"
   ],
   "metadata": {
    "collapsed": false,
    "pycharm": {
     "name": "#%%\n"
    }
   }
  },
  {
   "cell_type": "markdown",
   "source": [
    "# Fr vs Al\n",
    "## Al genome: {'alpha': 0.47840317321043324, 'beta': 0.015350681808749878, 'gamma': 0.9791301988440648}, {'alpha': 0.10717668577545536, 'beta': 0.10019660149353893, 'gamma': 0.9943791635871431\n",
    "## Fr genome:\n"
   ],
   "metadata": {
    "collapsed": false,
    "pycharm": {
     "name": "#%% md\n"
    }
   }
  },
  {
   "cell_type": "code",
   "execution_count": 4,
   "outputs": [],
   "source": [
    "import random\n",
    "from nimply import Nim, Nimply, cook_status_t2\n",
    "\n",
    "def strategy_gaAl(state: Nim, genome) -> Nimply:\n",
    "    cooked = cook_status_t2(state)\n",
    "    alpha = genome[\"alpha\"]\n",
    "    beta = genome[\"beta\"]\n",
    "    gamma = genome[\"gamma\"]\n",
    "    outcome = random.choices([True, False], weights=[gamma, 1 - gamma], k=1)[0]\n",
    "\n",
    "    if outcome:\n",
    "\n",
    "        if cooked[\"active_rows_number\"] % 2 == 1:\n",
    "            row = random.choice([i for i, e in enumerate(state.rows) if e > 0])\n",
    "            num_objects = state.rows[row]\n",
    "\n",
    "        else:\n",
    "            if state.rows[cooked[\"longest_row\"]] > 1:\n",
    "                row = random.choice([i for i, e in enumerate(state.rows) if e > 1])\n",
    "                num_objects = state.rows[row] - 1\n",
    "            else:\n",
    "                row = random.choice([i for i, e in enumerate(state.rows) if e > 0])\n",
    "                num_objects = state.rows[row]\n",
    "    else:\n",
    "        row = random.choices(\n",
    "            [\n",
    "                random.choice(cooked[\"over_avg_rows\"]),\n",
    "                random.choice(cooked[\"under_avg_rows\"])\n",
    "            ],\n",
    "            weights=[alpha, 1 - alpha],\n",
    "            k=1)[0]\n",
    "\n",
    "        num_objects = random.choices(\n",
    "            [\n",
    "                1,\n",
    "                random.randint(1, state.rows[row])\n",
    "            ],\n",
    "            weights=[beta, 1 - beta],\n",
    "            k=1)[0]\n",
    "\n",
    "    return Nimply(row, num_objects)\n",
    "\n",
    "\n",
    "def challenge(genomeFr, strategy_gaFr, genomeAl, strategy_gaAl, num_matches=100, nim_size=10, k_size=None):\n",
    "    won = 0\n",
    "\n",
    "    for m in range(num_matches):\n",
    "        nim = Nim(nim_size, k=k_size)\n",
    "        player = random.randint(0, 1)\n",
    "        while nim:\n",
    "            if player == 0:\n",
    "                ply = strategy_gaFr(nim, genomeFr)\n",
    "            else:\n",
    "                ply = strategy_gaAl(nim, genomeAl)\n",
    "            nim.nimming(ply)\n",
    "            player = 1 - player\n",
    "        if player == 1:\n",
    "            won += 1\n",
    "    return won / num_matches"
   ],
   "metadata": {
    "collapsed": false,
    "pycharm": {
     "name": "#%%\n"
    }
   }
  },
  {
   "cell_type": "markdown",
   "source": [
    "# Task 3"
   ],
   "metadata": {
    "collapsed": false,
    "pycharm": {
     "name": "#%% md\n"
    }
   }
  },
  {
   "cell_type": "markdown",
   "source": [
    "# Task 4"
   ],
   "metadata": {
    "collapsed": false,
    "pycharm": {
     "name": "#%% md\n"
    }
   }
  },
  {
   "cell_type": "markdown",
   "metadata": {
    "pycharm": {
     "name": "#%% md\n"
    }
   },
   "source": [
    "## Oversimplified match"
   ]
  },
  {
   "cell_type": "code",
   "execution_count": 5,
   "outputs": [
    {
     "name": "stdout",
     "output_type": "stream",
     "text": [
      "status: After player 0 -> <1 3 5 7 9 1 13 15 17 19>\n",
      "status: After player 1 -> <0 3 5 7 9 1 13 15 17 19>\n",
      "status: After player 0 -> <0 3 5 0 9 1 13 15 17 19>\n",
      "status: After player 1 -> <0 3 5 0 9 1 13 15 15 19>\n",
      "status: After player 0 -> <0 3 5 0 9 1 13 15 1 19>\n",
      "status: After player 1 -> <0 3 5 0 9 1 13 13 1 19>\n",
      "status: After player 0 -> <0 1 5 0 9 1 13 13 1 19>\n",
      "status: After player 1 -> <0 1 5 0 3 1 13 13 1 19>\n",
      "status: After player 0 -> <0 1 5 0 3 1 1 13 1 19>\n",
      "status: After player 1 -> <0 1 5 0 3 1 1 13 1 15>\n",
      "status: After player 0 -> <0 1 5 0 3 1 1 1 1 15>\n",
      "status: After player 1 -> <0 0 5 0 3 1 1 1 1 15>\n",
      "status: After player 0 -> <0 0 5 0 3 1 1 0 1 15>\n",
      "status: After player 1 -> <0 0 0 0 3 1 1 0 1 15>\n",
      "status: After player 0 -> <0 0 0 0 3 1 0 0 1 15>\n",
      "status: After player 1 -> <0 0 0 0 3 1 0 0 0 15>\n",
      "status: After player 0 -> <0 0 0 0 3 1 0 0 0 0>\n",
      "status: After player 1 -> <0 0 0 0 2 1 0 0 0 0>\n",
      "status: After player 0 -> <0 0 0 0 1 1 0 0 0 0>\n",
      "status: After player 1 -> <0 0 0 0 1 0 0 0 0 0>\n",
      "status: After player 0 -> <0 0 0 0 0 0 0 0 0 0>\n",
      "status: Player 0 won!\n"
     ]
    }
   ],
   "source": [
    "play_match(strategy_v3, pure_random, 10, k_size=None)"
   ],
   "metadata": {
    "collapsed": false,
    "pycharm": {
     "name": "#%%\n"
    }
   }
  }
 ],
 "metadata": {
  "kernelspec": {
   "display_name": "Python 3.10.7 ('ci22-dPIXJ0_o-py3.10')",
   "language": "python",
   "name": "python3"
  },
  "language_info": {
   "codemirror_mode": {
    "name": "ipython",
    "version": 3
   },
   "file_extension": ".py",
   "mimetype": "text/x-python",
   "name": "python",
   "nbconvert_exporter": "python",
   "pygments_lexer": "ipython3",
   "version": "3.10.7"
  },
  "vscode": {
   "interpreter": {
    "hash": "10197e8e2f2aa67e2c349105091c77f4cd384fce4877865f002d9ec653f96bc0"
   }
  }
 },
 "nbformat": 4,
 "nbformat_minor": 2
}