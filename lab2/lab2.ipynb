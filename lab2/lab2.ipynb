{
 "cells": [
  {
   "cell_type": "code",
   "execution_count": 74,
   "outputs": [],
   "source": [
    "import copy\n",
    "import random\n",
    "from collections import namedtuple\n",
    "\n",
    "\n",
    "OFFSPRING_SIZE = 3\n",
    "\n",
    "NUM_GENERATIONS = 100\n",
    "\n",
    "SEED = 42\n",
    "Individual = namedtuple(\"Individual\", [\"genome\", \"fitness\"])"
   ],
   "metadata": {
    "collapsed": false,
    "pycharm": {
     "name": "#%%\n"
    }
   }
  },
  {
   "cell_type": "code",
   "execution_count": 75,
   "outputs": [],
   "source": [
    "def problem(N, seed=None):\n",
    "    random.seed(seed)\n",
    "    return [\n",
    "        list(set(random.randint(0, N - 1) for n in range(random.randint(N // 5, N // 2))))\n",
    "        for n in range(random.randint(N, N * 5))\n",
    "    ]\n"
   ],
   "metadata": {
    "collapsed": false,
    "pycharm": {
     "name": "#%%\n"
    }
   }
  },
  {
   "cell_type": "code",
   "execution_count": 76,
   "outputs": [],
   "source": [
    "def goal_test(state):\n",
    "    return set(sum((e for e in state), start=())) == GOAL"
   ],
   "metadata": {
    "collapsed": false,
    "pycharm": {
     "name": "#%%\n"
    }
   }
  },
  {
   "cell_type": "code",
   "execution_count": 77,
   "outputs": [],
   "source": [
    "def w(genome):\n",
    "    if goal_test(genome) is False:\n",
    "        return -1000000000\n",
    "    else:\n",
    "        return -sum([len(i) for i in genome])\n",
    "\n",
    "\n",
    "def tournament(population, tournament_size=5):\n",
    "    return max(random.choices(population, k=tournament_size), key=lambda i: i.fitness)\n",
    "\n",
    "\n",
    "def cross_over(g1, g2, all_lists):\n",
    "    # cut = random.randint(0, PROBLEM_SIZE)\n",
    "    cut = random.randint(0, min([len(g1), len(g2)]))\n",
    "\n",
    "    for _ in range(100):\n",
    "        new = set(g1[:cut] + g2[cut:])\n",
    "        if len(new) < N:\n",
    "            pick_one = random.choice(list(set(all_lists) - new))\n",
    "            new = g1[:cut] + [pick_one] + g2[cut + 1:]\n",
    "            if w(new) > -100000000:\n",
    "                return new\n",
    "\n",
    "    return g1\n",
    "\n",
    "\n",
    "def mutation(g, all_lists):\n",
    "    point = random.randint(0, len(g) - 1)\n",
    "\n",
    "    for _ in range(100):\n",
    "        pick_one = random.choice(list(set(all_lists) - set(g)))\n",
    "        new = g[:point] + [pick_one] + g[point + 1:]\n",
    "        if w(new) > w(g):\n",
    "            return new\n",
    "\n",
    "    return g"
   ],
   "metadata": {
    "collapsed": false,
    "pycharm": {
     "name": "#%%\n"
    }
   }
  },
  {
   "cell_type": "code",
   "execution_count": 78,
   "outputs": [],
   "source": [
    "def generate_population(N):\n",
    "    problem_out = problem(N, SEED)\n",
    "    all_lists = list(set(tuple(sorted(_)) for _ in problem_out))\n",
    "    # MAX_LENGTH = sum([sum(i) for i in all_lists])\n",
    "    # print(MAX_LENGTH)\n",
    "\n",
    "    population = list()\n",
    "    for _ in range(N * 20):\n",
    "        genome = random.sample(all_lists, random.randint(0, N-1))\n",
    "\n",
    "        population.append(Individual(genome, w(genome)))\n",
    "    return population, all_lists\n"
   ],
   "metadata": {
    "collapsed": false,
    "pycharm": {
     "name": "#%%\n"
    }
   }
  },
  {
   "cell_type": "code",
   "execution_count": 79,
   "outputs": [],
   "source": [
    "def let_it_grow(N, INITIAL_POPULATION, all_lists):\n",
    "    # problem_out = problem(5, SEED)\n",
    "    # all_lists = list(set(tuple(sorted(_)) for _ in problem_out))\n",
    "    # print(all_lists)\n",
    "\n",
    "    POPULATION = copy.deepcopy(INITIAL_POPULATION)\n",
    "\n",
    "    optim_flag = False\n",
    "    for g in range(NUM_GENERATIONS):\n",
    "\n",
    "        optim = [i for i in POPULATION if i.fitness == -N]\n",
    "        if len(optim) != 0:\n",
    "            optim_flag = True\n",
    "            print(f\"OPTIMUM solution: {optim[0].genome}\")\n",
    "            print(f\"Total cost: {-optim[0].fitness}\")\n",
    "            break\n",
    "\n",
    "        offspring = list()\n",
    "        for i in range(OFFSPRING_SIZE):\n",
    "            if random.random() < 0.3:\n",
    "                p = tournament(POPULATION)\n",
    "                o = mutation(p.genome, all_lists)\n",
    "            else:\n",
    "                p1 = tournament(POPULATION)\n",
    "                p2 = tournament(POPULATION)\n",
    "                o = cross_over(p1.genome, p2.genome, all_lists)\n",
    "            f = w(o)\n",
    "            offspring.append(Individual(o, f))\n",
    "        POPULATION += offspring\n",
    "        POPULATION = sorted(POPULATION, key=lambda i: i.fitness, reverse=True)[:2 * N]\n",
    "    if optim_flag is not True:\n",
    "        print(f\"solution: {POPULATION[0].genome}\")\n",
    "        print(f\"total cost: {-POPULATION[0].fitness}\")\n"
   ],
   "metadata": {
    "collapsed": false,
    "pycharm": {
     "name": "#%%\n"
    }
   }
  },
  {
   "cell_type": "code",
   "execution_count": 80,
   "outputs": [
    {
     "name": "stdout",
     "output_type": "stream",
     "text": [
      "Searching solution for N = 5\n",
      "OPTIMUM solution: [(1, 3), (2, 4), (0,)]\n",
      "Total cost: 5\n",
      "------------------------------------------------------------\n",
      "Searching solution for N = 10\n",
      "solution: [(1, 6), (2, 7, 8), (3, 9), (0, 4), (5, 6)]\n",
      "total cost: 11\n",
      "------------------------------------------------------------\n",
      "Searching solution for N = 20\n",
      "solution: [(4, 7, 11, 12, 15, 16, 18), (0, 1, 2, 3, 6, 13, 17, 18), (5, 7, 8, 13, 14), (6, 9, 16, 19), (1, 7, 10, 17)]\n",
      "total cost: 28\n",
      "------------------------------------------------------------\n",
      "Searching solution for N = 100\n",
      "solution: [(16, 23, 26, 30, 33, 34, 35, 43, 46, 47, 51, 53, 54, 57, 60, 63, 70, 73, 78, 87, 89, 96), (2, 3, 5, 6, 8, 10, 13, 14, 16, 19, 20, 21, 25, 27, 28, 30, 31, 32, 39, 44, 47, 53, 59, 60, 69, 72, 77, 79, 83, 85, 89, 91, 95, 96, 98, 99), (2, 5, 9, 16, 29, 40, 45, 48, 50, 51, 53, 54, 55, 58, 64, 68, 71, 73, 81, 85, 90, 94), (0, 3, 5, 15, 16, 23, 24, 26, 29, 37, 42, 44, 52, 53, 59, 63, 66, 71, 72, 78, 80, 81, 90, 93, 94), (1, 8, 10, 13, 15, 18, 21, 22, 47, 50, 51, 56, 60, 62, 66, 75, 84, 86, 88, 94), (1, 2, 8, 9, 16, 22, 27, 33, 40, 46, 49, 53, 60, 67, 69, 72, 75, 87, 97, 98), (2, 8, 18, 20, 22, 23, 24, 36, 39, 50, 58, 62, 63, 72, 77, 82, 87, 93), (4, 9, 10, 12, 15, 25, 29, 33, 35, 37, 42, 45, 46, 56, 64, 65, 69, 82, 86), (4, 9, 10, 11, 12, 17, 19, 22, 27, 29, 31, 32, 33, 38, 41, 45, 46, 48, 51, 61, 62, 72, 73, 74, 76, 82, 88, 89, 92, 93), (3, 5, 7, 12, 16, 30, 31, 36, 39, 41, 43, 44, 45, 46, 48, 52, 54, 74, 75, 78, 80, 82, 84, 86, 94, 97, 98)]\n",
      "total cost: 239\n",
      "------------------------------------------------------------\n"
     ]
    }
   ],
   "source": [
    "for N in [5, 10, 20, 100]:\n",
    "    GOAL = set(range(N))\n",
    "    INITIAL_POPULATION, all_lists = generate_population(N)\n",
    "\n",
    "    print(f\"Searching solution for N = {N}\")\n",
    "    let_it_grow(N, INITIAL_POPULATION, all_lists)\n",
    "    print(\"------------------------------------------------------------\")"
   ],
   "metadata": {
    "collapsed": false,
    "pycharm": {
     "name": "#%%\n"
    }
   }
  }
 ],
 "metadata": {
  "kernelspec": {
   "display_name": "Python 3",
   "language": "python",
   "name": "python3"
  },
  "language_info": {
   "codemirror_mode": {
    "name": "ipython",
    "version": 2
   },
   "file_extension": ".py",
   "mimetype": "text/x-python",
   "name": "python",
   "nbconvert_exporter": "python",
   "pygments_lexer": "ipython2",
   "version": "2.7.6"
  }
 },
 "nbformat": 4,
 "nbformat_minor": 0
}